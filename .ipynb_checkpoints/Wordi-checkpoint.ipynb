{
 "cells": [
  {
   "cell_type": "code",
   "execution_count": 40,
   "id": "0a54e4cc-f132-4807-b791-2d0b11c02d9d",
   "metadata": {},
   "outputs": [],
   "source": [
    "from tqdm.notebook import tqdm "
   ]
  },
  {
   "cell_type": "code",
   "execution_count": 54,
   "id": "b75db0dd-6889-4e2e-b186-a5f7b4302dc9",
   "metadata": {},
   "outputs": [],
   "source": [
    "word_list = 'wlist_match11.txt' \n",
    "# word_list = 'wordlist.txt'\n",
    "# word_list = 'words_alpha.txt'\n",
    "# word_list = 'words.txt'"
   ]
  },
  {
   "cell_type": "code",
   "execution_count": 55,
   "id": "dff902c8-dd9a-4203-b1cd-20019063357d",
   "metadata": {},
   "outputs": [],
   "source": [
    "with open(word_list) as file :\n",
    "# with open('words_alpha.txt') as file :\n",
    "    words = file.read()\n",
    "words = words.lower().splitlines()\n",
    "letters = [set(w) for w in words]"
   ]
  },
  {
   "cell_type": "code",
   "execution_count": 56,
   "id": "8eed9060-937e-4bd1-9927-9b97e81eb194",
   "metadata": {},
   "outputs": [
    {
     "name": "stdin",
     "output_type": "stream",
     "text": [
      "Enter your letters with a space : \n",
      " b d c j s e n \n"
     ]
    },
    {
     "name": "stdout",
     "output_type": "stream",
     "text": [
      "you're letters are:\n",
      " {'b', 'd', 'c', 'n', 'e', 's', 'j'}\n"
     ]
    }
   ],
   "source": [
    "letter_set = set(input(\"Enter your letters with a space : \\n\").split())\n",
    "for letter in letter_set:\n",
    "    assert len(letter) == 1\n",
    "    \n",
    "print(\"you're letters are:\\n\", letter_set)"
   ]
  },
  {
   "cell_type": "code",
   "execution_count": 57,
   "id": "82874897-8869-4520-8fff-fa7c246026b3",
   "metadata": {},
   "outputs": [
    {
     "name": "stdin",
     "output_type": "stream",
     "text": [
      "Enter the word lengths with a space : \n",
      " 5 6 7 8\n"
     ]
    },
    {
     "name": "stdout",
     "output_type": "stream",
     "text": [
      "you're lengths are:\n",
      " [5, 6, 7, 8]\n"
     ]
    }
   ],
   "source": [
    "lengths = input(\"Enter the word lengths with a space : \\n\").split()\n",
    "for num in lengths:\n",
    "    assert num.isdigit()\n",
    "lengths = [int(num) for num in lengths]\n",
    "print(\"you're lengths are:\\n\", lengths)"
   ]
  },
  {
   "cell_type": "code",
   "execution_count": 58,
   "id": "5999a92b-81db-4066-a671-403749071783",
   "metadata": {},
   "outputs": [
    {
     "data": {
      "application/vnd.jupyter.widget-view+json": {
       "model_id": "09a473d87eaa42f29e700340cb003708",
       "version_major": 2,
       "version_minor": 0
      },
      "text/plain": [
       "0it [00:00, ?it/s]"
      ]
     },
     "metadata": {},
     "output_type": "display_data"
    }
   ],
   "source": [
    "found_words = []\n",
    "for word, let in tqdm(zip(words,letters)):\n",
    "    if let.issubset(letter_set) and len(word) in lengths:\n",
    "        found_words.append(word)"
   ]
  },
  {
   "cell_type": "code",
   "execution_count": 59,
   "id": "64ad2698-122f-4210-b1db-dbf665644d01",
   "metadata": {},
   "outputs": [
    {
     "name": "stdout",
     "output_type": "stream",
     "text": [
      "\n",
      "\n",
      "Words with length 5 :\n",
      "bebed beden beebe bends benes benne besee besse bsdes ceded cedes cence cense ddene debee deben debes deden deeds deess deneb denes dense desde ebbed ebsen ended essed essee essen esses jenne jesse needn needs neese nenes neses nssdc scend scene sebec seeds sence sends sense sneds sneed \n",
      "\n",
      "Words with length 6 :\n",
      "bedded bedeen bedene beebee benben bended bendee bennes bensen beseen besses cedens censed censes cessed cesses debbee decede decene decess deeded deedee deeses denned densen desdee deseed essede essene jennee jensen jessed jessee jessen jesses nebbed needed neeses nesses scends scenes secede secess seeded seesee sended sendee sensed senses sessed \n",
      "\n",
      "Words with length 7 :\n",
      "becense beebees bendees decence deedeed descend encense enscene escence essence jenness necesse scended seceded secedes seedbed senesce snedded \n",
      "\n",
      "Words with length 8 :\n",
      "\n"
     ]
    }
   ],
   "source": [
    "message = ''\n",
    "for l in lengths:\n",
    "    message += f'\\n\\nWords with length {l} :\\n'\n",
    "    for w in found_words:\n",
    "        if len(w)==l:\n",
    "            message +=  w + ' ' \n",
    "print (message)"
   ]
  },
  {
   "cell_type": "code",
   "execution_count": null,
   "id": "8775c6da-dbca-4951-a5a2-21838821acd2",
   "metadata": {},
   "outputs": [],
   "source": []
  }
 ],
 "metadata": {
  "kernelspec": {
   "display_name": "Python 3",
   "language": "python",
   "name": "python3"
  },
  "language_info": {
   "codemirror_mode": {
    "name": "ipython",
    "version": 3
   },
   "file_extension": ".py",
   "mimetype": "text/x-python",
   "name": "python",
   "nbconvert_exporter": "python",
   "pygments_lexer": "ipython3",
   "version": "3.8.8"
  }
 },
 "nbformat": 4,
 "nbformat_minor": 5
}
